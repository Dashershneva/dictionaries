{
 "cells": [
  {
   "cell_type": "code",
   "execution_count": 1,
   "metadata": {
    "collapsed": true
   },
   "outputs": [],
   "source": [
    "import sqlite3\n",
    "import re\n",
    "from bs4 import BeautifulSoup\n",
    "import os\n",
    "import warnings"
   ]
  },
  {
   "cell_type": "code",
   "execution_count": 2,
   "metadata": {
    "collapsed": true
   },
   "outputs": [],
   "source": [
    "warnings.filterwarnings('ignore')"
   ]
  },
  {
   "cell_type": "code",
   "execution_count": 3,
   "metadata": {
    "collapsed": true
   },
   "outputs": [],
   "source": [
    "con = sqlite3.connect('slovari.db')\n",
    "cur = con.cursor()"
   ]
  },
  {
   "cell_type": "code",
   "execution_count": 4,
   "metadata": {
    "collapsed": true
   },
   "outputs": [],
   "source": [
    "#cur.execute('CREATE TABLE test (id INTEGER PRIMARY KEY, orth VARCHAR(30), phon VARCHAR(30), sense_n INTEGER, sense VARCHAR(3000), examp VARCHAR(3000), etym VARCHAR(30), syn VARCHAR(30), ant VARCHAR(30), epith VARCHAR(30), pos VARCHAR(10), gender VARCHAR(4), asp VARCHAR(10), gov VARCHAR(10), dic_name VARCHAR(30))')\n",
    "#con.commit()"
   ]
  },
  {
   "cell_type": "code",
   "execution_count": 4,
   "metadata": {
    "collapsed": true
   },
   "outputs": [],
   "source": [
    "def get_dicname(file):\n",
    "    res = re.findall('<title>.+?</title>', file) \n",
    "    for item in res:\n",
    "        item = item.replace('<title>', '')\n",
    "        item = item.replace('</title>', '')\n",
    "    return item"
   ]
  },
  {
   "cell_type": "code",
   "execution_count": 5,
   "metadata": {
    "collapsed": true
   },
   "outputs": [],
   "source": [
    "to_replace = [\"['> \", \" <']\", \"['>\", \"<']\", '[\"> ', ' <\"]', '[\">', '<\"]', \"['\", \"']\"]\n",
    "\n",
    "def strip_all(to_replace, line_with_tags):\n",
    "    line = str(re.findall('>.+?<', line_with_tags))\n",
    "    for item_to_replace in to_replace:\n",
    "        line = line.replace(item_to_replace, \"\")\n",
    "    if \"...\" in line:\n",
    "        line = line.replace(\"...\", \"\")\n",
    "    return line"
   ]
  },
  {
   "cell_type": "code",
   "execution_count": 6,
   "metadata": {
    "collapsed": true
   },
   "outputs": [],
   "source": [
    "# ! extent\n",
    "def get_orth(entry):\n",
    "    res = re.findall('<orth extent=\"full\" type=\"lemma\">.+?</orth>', entry)\n",
    "    if len(res) != 0:\n",
    "        for item in res:\n",
    "            item = strip_all(to_replace, item)\n",
    "            item = item.lower()\n",
    "    else:\n",
    "        res = re.findall('<orth extent=\"part\" type=\"lemma\">.+?</orth>', entry)\n",
    "        for item in res:\n",
    "            item = strip_all(to_replace, item)\n",
    "            item = item.lower()\n",
    "    try:\n",
    "        return item\n",
    "    except:\n",
    "        pass"
   ]
  },
  {
   "cell_type": "code",
   "execution_count": 7,
   "metadata": {
    "collapsed": true
   },
   "outputs": [],
   "source": [
    "# ! type\n",
    "def get_phon(entry):\n",
    "    res = re.findall('<phon type=\"main\">.+?</phon>', entry)\n",
    "    for item in res:\n",
    "        item = strip_all(to_replace, item)\n",
    "    try:\n",
    "        return item\n",
    "    except:\n",
    "        pass"
   ]
  },
  {
   "cell_type": "code",
   "execution_count": 8,
   "metadata": {
    "collapsed": true
   },
   "outputs": [],
   "source": [
    "to_replace_in_sense = [\"'\", '\"', '[', ']', 'n', '=']\n",
    "\n",
    "def get_sense_n(to_replace_in_sense, entry):\n",
    "    res = re.findall('<sense n=\".\">.+?</sense>', entry)\n",
    "    n_senses = []\n",
    "    for item in res:\n",
    "        n_sense = str(re.findall('n=\"\\d\"', item))\n",
    "        for item_to_replace in to_replace_in_sense:\n",
    "            n_sense = n_sense.replace(item_to_replace, '')\n",
    "        n_senses.append(int(n_sense))\n",
    "    try:\n",
    "        return n_senses\n",
    "    except:\n",
    "        pass"
   ]
  },
  {
   "cell_type": "code",
   "execution_count": 9,
   "metadata": {
    "collapsed": true
   },
   "outputs": [],
   "source": [
    "# ! usg\n",
    "def get_sense(num, entry, tag):\n",
    "    sense = str(re.findall('<sense n=\"' + str(num) + '\">.+?</sense>', entry))\n",
    "    res = str(re.findall('<' + tag + '>.+?</' + tag + '>', sense))\n",
    "    res = res.replace(\"['<\" + tag + \">\" +\" \" + \"<text>\", \"\")\n",
    "    res = res.replace(\"</text></\" + tag + \">']\", \"\")\n",
    "    if res != \"[]\":\n",
    "        return res"
   ]
  },
  {
   "cell_type": "code",
   "execution_count": 10,
   "metadata": {
    "collapsed": true
   },
   "outputs": [],
   "source": [
    "# ! язык (от фран. - фран.), чтобы можно было найти \"все слова, заимствованные из фран.\" \n",
    "def get_etym(entry):\n",
    "    res = re.findall('<etym><text>.+</text></etym>', entry)\n",
    "    for item in res:\n",
    "        item = item.replace('<etym>', '')\n",
    "        item = item.replace('</etym>', '')\n",
    "        item = strip_all(to_replace, item)\n",
    "    try:\n",
    "        return item\n",
    "    except:\n",
    "        pass"
   ]
  },
  {
   "cell_type": "code",
   "execution_count": 11,
   "metadata": {
    "collapsed": true
   },
   "outputs": [],
   "source": [
    "def get_syn(entry):\n",
    "    res = re.findall('<xr type=\"synonym\"><ref>.+</ref>', entry)\n",
    "    for item in res:\n",
    "        item = item.replace('<xr type=\"synonym\">', '')\n",
    "        item = item.replace('<ref>', '')\n",
    "        item = item.replace('</ref>', '')\n",
    "    try:\n",
    "        return item\n",
    "    except:\n",
    "        pass"
   ]
  },
  {
   "cell_type": "code",
   "execution_count": 12,
   "metadata": {
    "collapsed": true
   },
   "outputs": [],
   "source": [
    "def get_ant(entry):\n",
    "    res = re.findall('<xr type=\"antonym\"><ref>.+</ref></xr>', entry)\n",
    "    for item in res:\n",
    "        item = item.replace('<xr type=\"antonym\">', '')\n",
    "        item = item.replace('</xr>', '')\n",
    "        item = strip_all(to_replace, item)\n",
    "    try:\n",
    "        return item\n",
    "    except:\n",
    "        pass"
   ]
  },
  {
   "cell_type": "code",
   "execution_count": 13,
   "metadata": {
    "collapsed": true
   },
   "outputs": [],
   "source": [
    "# ! авторы эпитетов (src)\n",
    "def get_epith(entry):\n",
    "    res = re.findall('<xr type=\"epithet\"><ref>.+?</ref>', entry)\n",
    "    for item in res:\n",
    "        item = item.replace('<xr type=\"epithet\">', '')\n",
    "        item = item.replace('<ref>', '')\n",
    "        item = item.replace('</ref>', '')\n",
    "    try:\n",
    "        return item\n",
    "    except:\n",
    "        pass"
   ]
  },
  {
   "cell_type": "code",
   "execution_count": 14,
   "metadata": {
    "collapsed": true
   },
   "outputs": [],
   "source": [
    "def get_epith_into_sense(entry, num):\n",
    "    sense = str(re.findall('<sense n=\"' + str(num) + '\">.+?</sense>', entry))\n",
    "    res = re.findall('<xr type=\"epithet\"><ref>.+?</ref>', sense)\n",
    "    for item in res:\n",
    "        item = item.replace('<xr type=\"epithet\">', '')\n",
    "        item = item.replace('<ref>', '')\n",
    "        item = item.replace('</ref>', '')\n",
    "    try:\n",
    "        return item\n",
    "    except:\n",
    "        pass"
   ]
  },
  {
   "cell_type": "code",
   "execution_count": 15,
   "metadata": {
    "collapsed": true
   },
   "outputs": [],
   "source": [
    "# ! inflection\n",
    "def get_gram_into_form(entry, tag):\n",
    "    form = str(re.findall('<form>.+?</form>', entry))\n",
    "    res = str(re.findall('<' + tag + '>.+?</' + tag + '>', form))\n",
    "    res = res.replace(\"['<\" + tag + \">\", \"\")\n",
    "    res = res.replace(\"</\" + tag + \">']\", \"\")\n",
    "    if res != \"[]\":\n",
    "        return res"
   ]
  },
  {
   "cell_type": "code",
   "execution_count": 16,
   "metadata": {
    "collapsed": true
   },
   "outputs": [],
   "source": [
    "def get_gram_into_sense(num, entry, tag):\n",
    "    sense = str(re.findall('<sense n=\"' + str(num) + '\">.+?</sense>', entry))\n",
    "    res = str(re.findall('<' + tag + '>.+?</' + tag + '>', sense))\n",
    "    res = res.replace(\"['<\" + tag + \">\", \"\")\n",
    "    res = res.replace(\"</\" + tag + \">']\", \"\")\n",
    "    if res != \"[]\":\n",
    "        return res"
   ]
  },
  {
   "cell_type": "code",
   "execution_count": 17,
   "metadata": {
    "collapsed": true
   },
   "outputs": [],
   "source": [
    "path = \"C:/Users/1/Desktop/dics/\"\n",
    "to_replace_in_file = ['\\t', '\\n']"
   ]
  },
  {
   "cell_type": "code",
   "execution_count": 24,
   "metadata": {
    "collapsed": true
   },
   "outputs": [],
   "source": [
    "for fname in os.listdir(path):\n",
    "    \n",
    "    file_path = path + fname\n",
    "    file = open(file_path, \"r\", encoding=\"utf-8\")\n",
    "    file = file.read()\n",
    "    dic_name = get_dicname(file) \n",
    "    for item in to_replace_in_file:\n",
    "        file = file.replace(item, '')\n",
    "    soup = BeautifulSoup(file)\n",
    "    entries = soup.findAll('entry')\n",
    "    \n",
    "    for entry in entries:\n",
    "        entry = str(entry)\n",
    "        entry = entry.replace(\"\\xa0\", \" \")\n",
    "        orth = get_orth(entry)\n",
    "        epith = get_epith(entry)\n",
    "        num_senses = get_sense_n(to_replace_in_sense, entry)\n",
    "        if len(num_senses) == 0:\n",
    "            cur.execute('INSERT INTO test (orth, epith, dic_name) VALUES (:orth, :epith, :dic_name)', (orth, epith, dic_name))\n",
    "            con.commit()\n",
    "        else:\n",
    "            for num in num_senses:\n",
    "                sense = get_sense(num, entry, 'def')\n",
    "                epith = get_epith_into_sense(entry, num)\n",
    "                cur.execute('INSERT INTO test (orth, sense_n, sense, epith, dic_name) VALUES (:orth, :sense_n, :sense, :epith, :dic_name)', (orth, num, sense, epith, dic_name))\n",
    "con.commit()"
   ]
  },
  {
   "cell_type": "code",
   "execution_count": 25,
   "metadata": {
    "collapsed": true
   },
   "outputs": [],
   "source": [
    "con.close()"
   ]
  }
 ],
 "metadata": {
  "kernelspec": {
   "display_name": "Python 3",
   "language": "python",
   "name": "python3"
  },
  "language_info": {
   "codemirror_mode": {
    "name": "ipython",
    "version": 3
   },
   "file_extension": ".py",
   "mimetype": "text/x-python",
   "name": "python",
   "nbconvert_exporter": "python",
   "pygments_lexer": "ipython3",
   "version": "3.6.1"
  }
 },
 "nbformat": 4,
 "nbformat_minor": 2
}
